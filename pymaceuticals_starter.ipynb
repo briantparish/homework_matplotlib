{
 "cells": [
  {
   "cell_type": "markdown",
   "metadata": {},
   "source": [
    "## Observations and Insights"
   ]
  },
  {
   "cell_type": "markdown",
   "metadata": {},
   "source": [
    "#### 1. The Drug Regimens Ramicane and Capomulin were the only two therapies in the test on average to reduce the size of tumors over the course of the trial\n",
    "#### 2. The heavier the mouse, the larger the tumor volume was on average. Removing other factors that could cause weight fluctuations the average Tumor added about .75g per mm3"
   ]
  },
  {
   "cell_type": "markdown",
   "metadata": {},
   "source": [
    "## Dependencies and starter code"
   ]
  },
  {
   "cell_type": "code",
   "execution_count": 1,
   "metadata": {
    "scrolled": false
   },
   "outputs": [
    {
     "data": {
      "text/html": [
       "<div>\n",
       "<style scoped>\n",
       "    .dataframe tbody tr th:only-of-type {\n",
       "        vertical-align: middle;\n",
       "    }\n",
       "\n",
       "    .dataframe tbody tr th {\n",
       "        vertical-align: top;\n",
       "    }\n",
       "\n",
       "    .dataframe thead th {\n",
       "        text-align: right;\n",
       "    }\n",
       "</style>\n",
       "<table border=\"1\" class=\"dataframe\">\n",
       "  <thead>\n",
       "    <tr style=\"text-align: right;\">\n",
       "      <th></th>\n",
       "      <th>Mouse ID</th>\n",
       "      <th>Drug Regimen</th>\n",
       "      <th>Sex</th>\n",
       "      <th>Age_months</th>\n",
       "      <th>Weight (g)</th>\n",
       "      <th>Timepoint</th>\n",
       "      <th>Tumor Volume (mm3)</th>\n",
       "      <th>Metastatic Sites</th>\n",
       "    </tr>\n",
       "  </thead>\n",
       "  <tbody>\n",
       "    <tr>\n",
       "      <th>0</th>\n",
       "      <td>k403</td>\n",
       "      <td>Ramicane</td>\n",
       "      <td>Male</td>\n",
       "      <td>21</td>\n",
       "      <td>16</td>\n",
       "      <td>0</td>\n",
       "      <td>45.000000</td>\n",
       "      <td>0</td>\n",
       "    </tr>\n",
       "    <tr>\n",
       "      <th>1</th>\n",
       "      <td>k403</td>\n",
       "      <td>Ramicane</td>\n",
       "      <td>Male</td>\n",
       "      <td>21</td>\n",
       "      <td>16</td>\n",
       "      <td>5</td>\n",
       "      <td>38.825898</td>\n",
       "      <td>0</td>\n",
       "    </tr>\n",
       "    <tr>\n",
       "      <th>2</th>\n",
       "      <td>k403</td>\n",
       "      <td>Ramicane</td>\n",
       "      <td>Male</td>\n",
       "      <td>21</td>\n",
       "      <td>16</td>\n",
       "      <td>10</td>\n",
       "      <td>35.014271</td>\n",
       "      <td>1</td>\n",
       "    </tr>\n",
       "    <tr>\n",
       "      <th>3</th>\n",
       "      <td>k403</td>\n",
       "      <td>Ramicane</td>\n",
       "      <td>Male</td>\n",
       "      <td>21</td>\n",
       "      <td>16</td>\n",
       "      <td>15</td>\n",
       "      <td>34.223992</td>\n",
       "      <td>1</td>\n",
       "    </tr>\n",
       "    <tr>\n",
       "      <th>4</th>\n",
       "      <td>k403</td>\n",
       "      <td>Ramicane</td>\n",
       "      <td>Male</td>\n",
       "      <td>21</td>\n",
       "      <td>16</td>\n",
       "      <td>20</td>\n",
       "      <td>32.997729</td>\n",
       "      <td>1</td>\n",
       "    </tr>\n",
       "    <tr>\n",
       "      <th>...</th>\n",
       "      <td>...</td>\n",
       "      <td>...</td>\n",
       "      <td>...</td>\n",
       "      <td>...</td>\n",
       "      <td>...</td>\n",
       "      <td>...</td>\n",
       "      <td>...</td>\n",
       "      <td>...</td>\n",
       "    </tr>\n",
       "    <tr>\n",
       "      <th>1888</th>\n",
       "      <td>z969</td>\n",
       "      <td>Naftisol</td>\n",
       "      <td>Male</td>\n",
       "      <td>9</td>\n",
       "      <td>30</td>\n",
       "      <td>25</td>\n",
       "      <td>63.145652</td>\n",
       "      <td>2</td>\n",
       "    </tr>\n",
       "    <tr>\n",
       "      <th>1889</th>\n",
       "      <td>z969</td>\n",
       "      <td>Naftisol</td>\n",
       "      <td>Male</td>\n",
       "      <td>9</td>\n",
       "      <td>30</td>\n",
       "      <td>30</td>\n",
       "      <td>65.841013</td>\n",
       "      <td>3</td>\n",
       "    </tr>\n",
       "    <tr>\n",
       "      <th>1890</th>\n",
       "      <td>z969</td>\n",
       "      <td>Naftisol</td>\n",
       "      <td>Male</td>\n",
       "      <td>9</td>\n",
       "      <td>30</td>\n",
       "      <td>35</td>\n",
       "      <td>69.176246</td>\n",
       "      <td>4</td>\n",
       "    </tr>\n",
       "    <tr>\n",
       "      <th>1891</th>\n",
       "      <td>z969</td>\n",
       "      <td>Naftisol</td>\n",
       "      <td>Male</td>\n",
       "      <td>9</td>\n",
       "      <td>30</td>\n",
       "      <td>40</td>\n",
       "      <td>70.314904</td>\n",
       "      <td>4</td>\n",
       "    </tr>\n",
       "    <tr>\n",
       "      <th>1892</th>\n",
       "      <td>z969</td>\n",
       "      <td>Naftisol</td>\n",
       "      <td>Male</td>\n",
       "      <td>9</td>\n",
       "      <td>30</td>\n",
       "      <td>45</td>\n",
       "      <td>73.867845</td>\n",
       "      <td>4</td>\n",
       "    </tr>\n",
       "  </tbody>\n",
       "</table>\n",
       "<p>1893 rows × 8 columns</p>\n",
       "</div>"
      ],
      "text/plain": [
       "     Mouse ID Drug Regimen   Sex  Age_months  Weight (g)  Timepoint  \\\n",
       "0        k403     Ramicane  Male          21          16          0   \n",
       "1        k403     Ramicane  Male          21          16          5   \n",
       "2        k403     Ramicane  Male          21          16         10   \n",
       "3        k403     Ramicane  Male          21          16         15   \n",
       "4        k403     Ramicane  Male          21          16         20   \n",
       "...       ...          ...   ...         ...         ...        ...   \n",
       "1888     z969     Naftisol  Male           9          30         25   \n",
       "1889     z969     Naftisol  Male           9          30         30   \n",
       "1890     z969     Naftisol  Male           9          30         35   \n",
       "1891     z969     Naftisol  Male           9          30         40   \n",
       "1892     z969     Naftisol  Male           9          30         45   \n",
       "\n",
       "      Tumor Volume (mm3)  Metastatic Sites  \n",
       "0              45.000000                 0  \n",
       "1              38.825898                 0  \n",
       "2              35.014271                 1  \n",
       "3              34.223992                 1  \n",
       "4              32.997729                 1  \n",
       "...                  ...               ...  \n",
       "1888           63.145652                 2  \n",
       "1889           65.841013                 3  \n",
       "1890           69.176246                 4  \n",
       "1891           70.314904                 4  \n",
       "1892           73.867845                 4  \n",
       "\n",
       "[1893 rows x 8 columns]"
      ]
     },
     "execution_count": 1,
     "metadata": {},
     "output_type": "execute_result"
    }
   ],
   "source": [
    "# Dependencies and Setup\n",
    "import matplotlib.pyplot as plt\n",
    "import pandas as pd\n",
    "import scipy.stats as st\n",
    "import numpy as np\n",
    "\n",
    "# Study data files\n",
    "mouse_metadata = \"data/Mouse_metadata.csv\"\n",
    "study_results = \"data/Study_results.csv\"\n",
    "\n",
    "# Read the mouse data and the study results\n",
    "mouse_metadata = pd.read_csv(mouse_metadata)\n",
    "study_results = pd.read_csv(study_results)\n",
    "\n",
    "# Combine the data into a single dataset\n",
    "study_combined = pd.merge(mouse_metadata, study_results, on=\"Mouse ID\", how=\"left\")\n",
    "study_combined"
   ]
  },
  {
   "cell_type": "markdown",
   "metadata": {},
   "source": [
    "## Summary statistics"
   ]
  },
  {
   "cell_type": "code",
   "execution_count": 12,
   "metadata": {},
   "outputs": [
    {
     "data": {
      "text/html": [
       "<div>\n",
       "<style scoped>\n",
       "    .dataframe tbody tr th:only-of-type {\n",
       "        vertical-align: middle;\n",
       "    }\n",
       "\n",
       "    .dataframe tbody tr th {\n",
       "        vertical-align: top;\n",
       "    }\n",
       "\n",
       "    .dataframe thead th {\n",
       "        text-align: right;\n",
       "    }\n",
       "</style>\n",
       "<table border=\"1\" class=\"dataframe\">\n",
       "  <thead>\n",
       "    <tr style=\"text-align: right;\">\n",
       "      <th></th>\n",
       "      <th>Average Tumor Size</th>\n",
       "      <th>Median Tumor Size</th>\n",
       "      <th>Variance</th>\n",
       "      <th>Standard Deviation</th>\n",
       "      <th>SEM</th>\n",
       "    </tr>\n",
       "    <tr>\n",
       "      <th>Drug Regimen</th>\n",
       "      <th></th>\n",
       "      <th></th>\n",
       "      <th></th>\n",
       "      <th></th>\n",
       "      <th></th>\n",
       "    </tr>\n",
       "  </thead>\n",
       "  <tbody>\n",
       "    <tr>\n",
       "      <th>Capomulin</th>\n",
       "      <td>40.675741</td>\n",
       "      <td>41.557809</td>\n",
       "      <td>24.947764</td>\n",
       "      <td>4.994774</td>\n",
       "      <td>0.329346</td>\n",
       "    </tr>\n",
       "    <tr>\n",
       "      <th>Ceftamin</th>\n",
       "      <td>52.591172</td>\n",
       "      <td>51.776157</td>\n",
       "      <td>39.290177</td>\n",
       "      <td>6.268188</td>\n",
       "      <td>0.469821</td>\n",
       "    </tr>\n",
       "    <tr>\n",
       "      <th>Infubinol</th>\n",
       "      <td>52.884795</td>\n",
       "      <td>51.820584</td>\n",
       "      <td>43.128684</td>\n",
       "      <td>6.567243</td>\n",
       "      <td>0.492236</td>\n",
       "    </tr>\n",
       "    <tr>\n",
       "      <th>Ketapril</th>\n",
       "      <td>55.235638</td>\n",
       "      <td>53.698743</td>\n",
       "      <td>68.553577</td>\n",
       "      <td>8.279709</td>\n",
       "      <td>0.603860</td>\n",
       "    </tr>\n",
       "    <tr>\n",
       "      <th>Naftisol</th>\n",
       "      <td>54.331565</td>\n",
       "      <td>52.509285</td>\n",
       "      <td>66.173479</td>\n",
       "      <td>8.134708</td>\n",
       "      <td>0.596466</td>\n",
       "    </tr>\n",
       "    <tr>\n",
       "      <th>Placebo</th>\n",
       "      <td>54.033581</td>\n",
       "      <td>52.288934</td>\n",
       "      <td>61.168083</td>\n",
       "      <td>7.821003</td>\n",
       "      <td>0.581331</td>\n",
       "    </tr>\n",
       "    <tr>\n",
       "      <th>Propriva</th>\n",
       "      <td>52.322552</td>\n",
       "      <td>50.854632</td>\n",
       "      <td>42.351070</td>\n",
       "      <td>6.507770</td>\n",
       "      <td>0.512884</td>\n",
       "    </tr>\n",
       "    <tr>\n",
       "      <th>Ramicane</th>\n",
       "      <td>40.216745</td>\n",
       "      <td>40.673236</td>\n",
       "      <td>23.486704</td>\n",
       "      <td>4.846308</td>\n",
       "      <td>0.320955</td>\n",
       "    </tr>\n",
       "    <tr>\n",
       "      <th>Stelasyn</th>\n",
       "      <td>54.233149</td>\n",
       "      <td>52.431737</td>\n",
       "      <td>59.450562</td>\n",
       "      <td>7.710419</td>\n",
       "      <td>0.573111</td>\n",
       "    </tr>\n",
       "    <tr>\n",
       "      <th>Zoniferol</th>\n",
       "      <td>53.236507</td>\n",
       "      <td>51.818479</td>\n",
       "      <td>48.533355</td>\n",
       "      <td>6.966589</td>\n",
       "      <td>0.516398</td>\n",
       "    </tr>\n",
       "  </tbody>\n",
       "</table>\n",
       "</div>"
      ],
      "text/plain": [
       "              Average Tumor Size  Median Tumor Size   Variance  \\\n",
       "Drug Regimen                                                     \n",
       "Capomulin              40.675741          41.557809  24.947764   \n",
       "Ceftamin               52.591172          51.776157  39.290177   \n",
       "Infubinol              52.884795          51.820584  43.128684   \n",
       "Ketapril               55.235638          53.698743  68.553577   \n",
       "Naftisol               54.331565          52.509285  66.173479   \n",
       "Placebo                54.033581          52.288934  61.168083   \n",
       "Propriva               52.322552          50.854632  42.351070   \n",
       "Ramicane               40.216745          40.673236  23.486704   \n",
       "Stelasyn               54.233149          52.431737  59.450562   \n",
       "Zoniferol              53.236507          51.818479  48.533355   \n",
       "\n",
       "              Standard Deviation       SEM  \n",
       "Drug Regimen                                \n",
       "Capomulin               4.994774  0.329346  \n",
       "Ceftamin                6.268188  0.469821  \n",
       "Infubinol               6.567243  0.492236  \n",
       "Ketapril                8.279709  0.603860  \n",
       "Naftisol                8.134708  0.596466  \n",
       "Placebo                 7.821003  0.581331  \n",
       "Propriva                6.507770  0.512884  \n",
       "Ramicane                4.846308  0.320955  \n",
       "Stelasyn                7.710419  0.573111  \n",
       "Zoniferol               6.966589  0.516398  "
      ]
     },
     "execution_count": 12,
     "metadata": {},
     "output_type": "execute_result"
    }
   ],
   "source": [
    "# Generate a summary statistics table of mean, median, variance, standard deviation, and SEM of the tumor volume for each regimen\n",
    "study_summary = pd.DataFrame(columns=[\"Average Tumor Size\", \"Median Tumor Size\", \"Variance\", \"Standard Deviation\"])\n",
    "study_summary[\"Average Tumor Size\"] = study_combined.groupby(\"Drug Regimen\")[\"Tumor Volume (mm3)\"].mean()\n",
    "study_summary[\"Median Tumor Size\"] = study_combined.groupby(\"Drug Regimen\")[\"Tumor Volume (mm3)\"].median()\n",
    "study_summary[\"Variance\"] = study_combined.groupby(\"Drug Regimen\")[\"Tumor Volume (mm3)\"].var()\n",
    "study_summary[\"Standard Deviation\"] = study_combined.groupby(\"Drug Regimen\")[\"Tumor Volume (mm3)\"].std()\n",
    "study_summary[\"SEM\"] = study_combined.groupby(\"Drug Regimen\")[\"Tumor Volume (mm3)\"].sem()\n",
    "study_summary"
   ]
  },
  {
   "cell_type": "markdown",
   "metadata": {},
   "source": [
    "## Bar plots"
   ]
  },
  {
   "cell_type": "code",
   "execution_count": 3,
   "metadata": {},
   "outputs": [
    {
     "data": {
      "image/png": "[encoded data removed]",
      "text/plain": [
       "<Figure size 432x288 with 1 Axes>"
      ]
     },
     "metadata": {
      "needs_background": "light"
     },
     "output_type": "display_data"
    }
   ],
   "source": [
    "# Generate a bar plot showing number of data points for each treatment regimen using pandas\n",
    "study_summary[\"Count\"] = study_combined.groupby(\"Drug Regimen\")[\"Tumor Volume (mm3)\"].count()\n",
    "study_summary = study_summary.reset_index()\n",
    "study_plot = study_summary.plot.bar(\"Drug Regimen\", \"Count\")"
   ]
  },
  {
   "cell_type": "code",
   "execution_count": 4,
   "metadata": {},
   "outputs": [
    {
     "data": {
      "image/png": "[encoded data removed]",
      "text/plain": [
       "<Figure size 432x288 with 1 Axes>"
      ]
     },
     "metadata": {
      "needs_background": "light"
     },
     "output_type": "display_data"
    }
   ],
   "source": [
    "# Generate a bar plot showing number of data points for each treatment regimen using pyplot\n",
    "study_py_plt_x = study_summary[\"Drug Regimen\"]\n",
    "study_py_plt_y = study_summary[\"Count\"]\n",
    "study_py_plt = plt.bar(study_py_plt_x, study_py_plt_y)\n",
    "plt.xticks(rotation='vertical')\n",
    "plt.xlabel(\"Drug Regimen\")\n",
    "plt.ylabel(\"Number of Data Points\")\n",
    "plt.title(\"Data Points by Drug Regimen\")\n",
    "plt.show()"
   ]
  },
  {
   "cell_type": "markdown",
   "metadata": {},
   "source": [
    "## Pie plots"
   ]
  },
  {
   "cell_type": "code",
   "execution_count": 5,
   "metadata": {},
   "outputs": [
    {
     "data": {
      "image/png": "[encoded data removed]",
      "text/plain": [
       "<Figure size 432x288 with 1 Axes>"
      ]
     },
     "metadata": {},
     "output_type": "display_data"
    }
   ],
   "source": [
    "# Generate a pie plot showing the distribution of female versus male mice using pandas\n",
    "study_genders = pd.DataFrame(study_combined.groupby(\"Sex\")[\"Age_months\"].count())\n",
    "study_genders = study_genders.rename(columns={\"Age_months\": \"Count\"})\n",
    "study_genders_plt = study_genders.plot.pie(y=\"Count\")\n",
    "study_genders = study_genders.reset_index()"
   ]
  },
  {
   "cell_type": "code",
   "execution_count": 6,
   "metadata": {},
   "outputs": [
    {
     "data": {
      "image/png": "[encoded data removed]",
      "text/plain": [
       "<Figure size 432x288 with 1 Axes>"
      ]
     },
     "metadata": {},
     "output_type": "display_data"
    }
   ],
   "source": [
    "# Generate a pie plot showing the distribution of female versus male mice using pyplot\n",
    "\n",
    "labels = study_genders[\"Sex\"].unique()\n",
    "gender = study_genders[\"Count\"]\n",
    "explode = [0,0.05]\n",
    "gender_py_plt = plt.pie(gender, labels=labels,explode=explode, autopct='%1.1f%%')"
   ]
  },
  {
   "cell_type": "markdown",
   "metadata": {},
   "source": [
    "## Quartiles, outliers and boxplots"
   ]
  },
  {
   "cell_type": "code",
   "execution_count": 13,
   "metadata": {},
   "outputs": [
    {
     "name": "stdout",
     "output_type": "stream",
     "text": [
      "Number of Ramicane Outliers: 0\n",
      "Number of Capomulin Outliers: 0\n",
      "Number of Ramicane Outliers: 0\n",
      "Number of Ceftamin Outliers: 0\n"
     ]
    }
   ],
   "source": [
    "# Calculate the final tumor volume of each mouse across four of the most promising treatment regimens. Calculate the IQR and quantitatively determine if there are any potential outliers.\n",
    "\n",
    "#Ramicane\n",
    "Ramicane_final_tumor = study_combined.loc[study_combined[\"Drug Regimen\"]==\"Ramicane\"]\n",
    "Ramicane_final_tumor = Ramicane_final_tumor.loc[Ramicane_final_tumor[\"Timepoint\"]==45]\n",
    "Ramicane_final_tumor = Ramicane_final_tumor[[\"Tumor Volume (mm3)\"]]\n",
    "Rami_Q1 = Ramicane_final_tumor[\"Tumor Volume (mm3)\"].quantile(.25)\n",
    "Rami_Q3 = Ramicane_final_tumor[\"Tumor Volume (mm3)\"].quantile(.75)\n",
    "Rami_iqr = Rami_Q3-Rami_Q1\n",
    "\n",
    "Rami_outliers = 0\n",
    "for size in Ramicane_final_tumor[\"Tumor Volume (mm3)\"]: \n",
    "    if((float(size) < Rami_Q1 - (1.5 * Rami_iqr)) or (float(size) > Rami_Q3 + (1.5 * Rami_iqr))):\n",
    "        Rami_outliers = Rami_outliers + 1\n",
    "    \n",
    "#Capomulin\n",
    "Capomulin_final_tumor = study_combined.loc[study_combined[\"Drug Regimen\"]==\"Capomulin\"]\n",
    "Capomulin_final_tumor = Capomulin_final_tumor.loc[Capomulin_final_tumor[\"Timepoint\"]==45]\n",
    "Capomulin_final_tumor = Capomulin_final_tumor[[\"Tumor Volume (mm3)\"]]\n",
    "Capo_Q1 = Capomulin_final_tumor[\"Tumor Volume (mm3)\"].quantile(.25)\n",
    "Capo_Q3 = Capomulin_final_tumor[\"Tumor Volume (mm3)\"].quantile(.75)\n",
    "Capo_iqr = Capo_Q3-Capo_Q1\n",
    "\n",
    "Capo_outliers = 0\n",
    "for size in Capomulin_final_tumor[\"Tumor Volume (mm3)\"]: \n",
    "    if((float(size) < Capo_Q1 - (1.5 * Capo_iqr)) or (float(size) > Capo_Q3 + (1.5 * Capo_iqr))):\n",
    "        Capo_outliers = Capo_outliers + 1\n",
    "\n",
    "#Propriva\n",
    "Propriva_final_tumor = study_combined.loc[study_combined[\"Drug Regimen\"]==\"Propriva\"]\n",
    "Propriva_final_tumor = Propriva_final_tumor.loc[Propriva_final_tumor[\"Timepoint\"]==45]\n",
    "Propriva_final_tumor = Propriva_final_tumor[[\"Tumor Volume (mm3)\"]]\n",
    "Propriva_final_tumor = Propriva_final_tumor.rename(columns = {\"Tumor Volume (mm3)\": \"Tumor Volume (mm3)\"})\n",
    "Prop_Q1 = Propriva_final_tumor[\"Tumor Volume (mm3)\"].quantile(.25)\n",
    "Prop_Q3 = Propriva_final_tumor[\"Tumor Volume (mm3)\"].quantile(.75)\n",
    "Prop_iqr = Prop_Q3-Prop_Q1\n",
    "\n",
    "Prop_outliers = 0\n",
    "for size in Propriva_final_tumor[\"Tumor Volume (mm3)\"]: \n",
    "    if((float(size) < Prop_Q1 - (1.5 * Prop_iqr)) or (float(size) > Prop_Q3 + (1.5 * Prop_iqr))):\n",
    "        Prop_outliers = Prop_outliers + 1\n",
    "        \n",
    "#Ceftamin\n",
    "Ceftamin_final_tumor = study_combined.loc[study_combined[\"Drug Regimen\"]==\"Ceftamin\"]\n",
    "Ceftamin_final_tumor = Ceftamin_final_tumor.loc[Ceftamin_final_tumor[\"Timepoint\"]==45]\n",
    "Ceftamin_final_tumor = Ceftamin_final_tumor[[ \"Tumor Volume (mm3)\"]]\n",
    "Ceftamin_final_tumor = Ceftamin_final_tumor.rename(columns = {\"Tumor Volume (mm3)\": \"Tumor Volume (mm3)\"})\n",
    "Ceft_Q1 = Ceftamin_final_tumor[\"Tumor Volume (mm3)\"].quantile(.25)\n",
    "Ceft_Q3 = Ceftamin_final_tumor[\"Tumor Volume (mm3)\"].quantile(.75)\n",
    "Ceft_iqr = Ceft_Q3-Ceft_Q1\n",
    "Ceft_outliers = 0\n",
    "for size in Ceftamin_final_tumor[\"Tumor Volume (mm3)\"]: \n",
    "    if((float(size) < Ceft_Q1 - (1.5 * Ceft_iqr)) or (float(size) > Ceft_Q3 + (1.5 * Ceft_iqr))):\n",
    "        Ceft_outliers = Ceft_outliers + 1\n",
    "        \n",
    "print(f\"Number of Ramicane Outliers: {Rami_outliers}\")\n",
    "print(f\"Number of Capomulin Outliers: {Capo_outliers}\")\n",
    "print(f\"Number of Ramicane Outliers: {Prop_outliers}\")\n",
    "print(f\"Number of Ceftamin Outliers: {Ceft_outliers}\")"
   ]
  },
  {
   "cell_type": "code",
   "execution_count": 14,
   "metadata": {},
   "outputs": [
    {
     "data": {
      "text/plain": [
       "Text(0, 0.5, 'Tumor Volume (mm3)')"
      ]
     },
     "execution_count": 14,
     "metadata": {},
     "output_type": "execute_result"
    },
    {
     "data": {
      "image/png": "[encoded data removed]",
      "text/plain": [
       "<Figure size 432x288 with 1 Axes>"
      ]
     },
     "metadata": {
      "needs_background": "light"
     },
     "output_type": "display_data"
    },
    {
     "data": {
      "image/png": "[encoded data removed]",
      "text/plain": [
       "<Figure size 432x288 with 1 Axes>"
      ]
     },
     "metadata": {
      "needs_background": "light"
     },
     "output_type": "display_data"
    },
    {
     "data": {
      "image/png": "[encoded data removed]",
      "text/plain": [
       "<Figure size 432x288 with 1 Axes>"
      ]
     },
     "metadata": {
      "needs_background": "light"
     },
     "output_type": "display_data"
    },
    {
     "data": {
      "image/png": "[encoded data removed]",
      "text/plain": [
       "<Figure size 432x288 with 1 Axes>"
      ]
     },
     "metadata": {
      "needs_background": "light"
     },
     "output_type": "display_data"
    }
   ],
   "source": [
    "# Generate a box plot of the final tumor volume of each mouse across four regimens of interest\n",
    "box_plot_rami = Ramicane_final_tumor.boxplot(column=\"Tumor Volume (mm3)\")\n",
    "plt.title(\"Ramicane\")\n",
    "plt.ylabel(\"Tumor Volume (mm3)\")\n",
    "plt.subplots()\n",
    "box_plot_capo = Capomulin_final_tumor.boxplot(column=\"Tumor Volume (mm3)\")\n",
    "plt.title(\"Capomulin\")\n",
    "plt.ylabel(\"Tumor Volume (mm3)\")\n",
    "plt.subplots()\n",
    "box_plot_prop = Propriva_final_tumor.boxplot(column=\"Tumor Volume (mm3)\")\n",
    "plt.title(\"Propriva\")\n",
    "plt.ylabel(\"Tumor Volume (mm3)\")\n",
    "plt.subplots()\n",
    "box_plot_ceft = Ceftamin_final_tumor.boxplot(column=\"Tumor Volume (mm3)\")\n",
    "plt.title(\"Ceftamin\")\n",
    "plt.ylabel(\"Tumor Volume (mm3)\")"
   ]
  },
  {
   "cell_type": "markdown",
   "metadata": {},
   "source": [
    "## Line and scatter plots"
   ]
  },
  {
   "cell_type": "code",
   "execution_count": 9,
   "metadata": {},
   "outputs": [
    {
     "data": {
      "text/plain": [
       "Text(0, 0.5, 'Tumor Size (mm3)')"
      ]
     },
     "execution_count": 9,
     "metadata": {},
     "output_type": "execute_result"
    },
    {
     "data": {
      "image/png": "[encoded data removed]",
      "text/plain": [
       "<Figure size 432x288 with 1 Axes>"
      ]
     },
     "metadata": {
      "needs_background": "light"
     },
     "output_type": "display_data"
    }
   ],
   "source": [
    "# Generate a line plot of time point versus tumor volume for a mouse treated with Capomulin\n",
    "mouse_g288 = study_combined.loc[study_combined[\"Mouse ID\"]==\"g288\"]\n",
    "mouse_g288_x = mouse_g288[\"Timepoint\"]\n",
    "mouse_g288_y = mouse_g288[\"Tumor Volume (mm3)\"]\n",
    "plt.plot(mouse_g288_x, mouse_g288_y)\n",
    "plt.grid()\n",
    "plt.title(\"Mouse G288 Tumor size over time\")\n",
    "plt.xlabel(\"Timepoint\")\n",
    "plt.ylabel(\"Tumor Size (mm3)\")"
   ]
  },
  {
   "cell_type": "code",
   "execution_count": 10,
   "metadata": {},
   "outputs": [
    {
     "data": {
      "text/plain": [
       "Text(0.5, 0, 'Average Tumor Volume (mm3)')"
      ]
     },
     "execution_count": 10,
     "metadata": {},
     "output_type": "execute_result"
    },
    {
     "data": {
      "image/png": "[encoded data removed]",
      "text/plain": [
       "<Figure size 432x288 with 1 Axes>"
      ]
     },
     "metadata": {
      "needs_background": "light"
     },
     "output_type": "display_data"
    }
   ],
   "source": [
    "# Generate a scatter plot of mouse weight versus average tumor volume for the Capomulin regimen\n",
    "Capomulin_scatter = study_combined.loc[study_combined[\"Drug Regimen\"]==\"Capomulin\"]\n",
    "scatter_x = Capomulin_scatter.groupby(\"Mouse ID\")[\"Tumor Volume (mm3)\"].mean()\n",
    "scatter_y = Capomulin_scatter.groupby(\"Mouse ID\")[\"Weight (g)\"].mean()\n",
    "plt.scatter(scatter_x, scatter_y)\n",
    "plt.title(\"Capomulin: Mouse Weight vs. Average tumor volume\")\n",
    "plt.ylabel(\"Weight (g)\")\n",
    "plt.xlabel(\"Average Tumor Volume (mm3)\")\n"
   ]
  },
  {
   "cell_type": "code",
   "execution_count": 15,
   "metadata": {},
   "outputs": [
    {
     "name": "stdout",
     "output_type": "stream",
     "text": [
      "Weight = 0.7426941826944178 * Average Tumor Volume (mm3) + -10.148863164111322\n",
      "Pearson Correlation Coefficient: (0.8419363424694717, 1.322572243471279e-07)\n"
     ]
    },
    {
     "data": {
      "image/png": "[encoded data removed]",
      "text/plain": [
       "<Figure size 432x288 with 1 Axes>"
      ]
     },
     "metadata": {
      "needs_background": "light"
     },
     "output_type": "display_data"
    }
   ],
   "source": [
    "# Calculate the correlation coefficient and linear regression model for mouse weight and average tumor volume for the Capomulin regimen\n",
    "(slope, intercept, r_value, p_value, std_err) = st.linregress(scatter_x,scatter_y)\n",
    "correlation_coefficient = st.pearsonr(scatter_x, scatter_y)\n",
    "print(f\"Weight = {slope} * Average Tumor Volume (mm3) + {intercept}\")\n",
    "x = range(34, 47, 1)\n",
    "y = slope * x + intercept\n",
    "\n",
    "plt.plot(x,y)\n",
    "print(f\"Pearson Correlation Coefficient: {correlation_coefficient}\")"
   ]
  },
  {
   "cell_type": "code",
   "execution_count": null,
   "metadata": {},
   "outputs": [],
   "source": []
  }
 ],
 "metadata": {
  "anaconda-cloud": {},
  "kernelspec": {
   "display_name": "Python 3",
   "language": "python",
   "name": "python3"
  },
  "language_info": {
   "codemirror_mode": {
    "name": "ipython",
    "version": 3
   },
   "file_extension": ".py",
   "mimetype": "text/x-python",
   "name": "python",
   "nbconvert_exporter": "python",
   "pygments_lexer": "ipython3",
   "version": "3.6.10"
  }
 },
 "nbformat": 4,
 "nbformat_minor": 2
}
